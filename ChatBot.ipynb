{
 "cells": [
  {
   "cell_type": "markdown",
   "id": "fc46e782",
   "metadata": {},
   "source": [
    "from dotenv: Esta parte indica que nós estamos importando algo do módulo\n",
    "chamado dotenv. O dotenv é uma biblioteca python que facilita o carregamento\n",
    "de variáveis de ambiente de um arquivo chamado .env para o ambiente do nosso\n",
    "programa.\n",
    "\n",
    "import load_dotenv: Especificamente, estamos importando a função chamada \n",
    "load_dotenv dentro do módulo dotenv. Esta função é a principal responsável\n",
    "por ler o arquivo .env e carregar as variáveis definidas.\n",
    "\n",
    "import os: Este é um módulo padrão da biblioteca Python que fornece uma maneira\n",
    "de interagir com o sistema operacional. Uma das funcionalidades que ele oferece\n",
    "é o acesso as variáveis de ambiente do sistema. Iremos usar o módulo os para realmente obter o valor da variável de ambiente que foi carregada pelo load_dotenv"
   ]
  },
  {
   "cell_type": "code",
   "execution_count": 1,
   "id": "eed8d697",
   "metadata": {},
   "outputs": [],
   "source": [
    "from dotenv import load_dotenv\n",
    "import os"
   ]
  },
  {
   "cell_type": "markdown",
   "id": "9f5a53e6",
   "metadata": {},
   "source": [
    "load_dotenv: Esta linha de código é a chamada da função que importamos do módulo dotenv. Quando esta função é executada, ela procura por um arquivo chamado .env no mesmo diretório onde o nosso script python está sendo executado\n",
    "(ou em diretórios pais, dependendo da configuração, mas por padrão é no mesmo\n",
    "diretório).\n",
    "\n",
    "os.environ: Este é um objeto módulo os que representa um dicionário de variáveis de ambiente. Ele contém todas as variáveis de ambiente que estão atualmente definidas no sistema onde o script python está rodando.\n",
    "\n",
    ".get(\"API_KEY\"): Este é um método do dicionário os.environ. Ele tenta obter o valor da variável de ambiente com a chave (nome) \"API_KEY\"."
   ]
  },
  {
   "cell_type": "code",
   "execution_count": null,
   "id": "6d90b5a8",
   "metadata": {},
   "outputs": [
    {
     "name": "stdout",
     "output_type": "stream",
     "text": [
      "Chave encontrada\n"
     ]
    }
   ],
   "source": [
    "load_dotenv()\n",
    "\n",
    "api_key = os.environ.get(\"API_KEY\")\n",
    "\n",
    "\n",
    "# Estrutura que irá verificar se uma chave foi ou não \n",
    "if api_key:\n",
    "    \n",
    "    print(\"Chave encontrada\")\n",
    "\n",
    "else:\n",
    "    \n",
    "    print(\"Chave não encontrada\")"
   ]
  },
  {
   "cell_type": "code",
   "execution_count": 3,
   "id": "83cb7ce2",
   "metadata": {},
   "outputs": [],
   "source": [
    "from google import genai\n",
    "\n",
    "client = genai.Client(api_key=api_key)"
   ]
  },
  {
   "cell_type": "code",
   "execution_count": 5,
   "id": "6215d166",
   "metadata": {},
   "outputs": [
    {
     "name": "stdout",
     "output_type": "stream",
     "text": [
      "models/embedding-gecko-001\n",
      "models/gemini-1.0-pro-vision-latest\n",
      "models/gemini-pro-vision\n",
      "models/gemini-1.5-pro-latest\n",
      "models/gemini-1.5-pro-001\n",
      "models/gemini-1.5-pro-002\n",
      "models/gemini-1.5-pro\n",
      "models/gemini-1.5-flash-latest\n",
      "models/gemini-1.5-flash-001\n",
      "models/gemini-1.5-flash-001-tuning\n",
      "models/gemini-1.5-flash\n",
      "models/gemini-1.5-flash-002\n",
      "models/gemini-1.5-flash-8b\n",
      "models/gemini-1.5-flash-8b-001\n",
      "models/gemini-1.5-flash-8b-latest\n",
      "models/gemini-1.5-flash-8b-exp-0827\n",
      "models/gemini-1.5-flash-8b-exp-0924\n",
      "models/gemini-2.5-pro-exp-03-25\n",
      "models/gemini-2.5-pro-preview-03-25\n",
      "models/gemini-2.5-flash-preview-04-17\n",
      "models/gemini-2.5-flash-preview-04-17-thinking\n",
      "models/gemini-2.5-pro-preview-05-06\n",
      "models/gemini-2.0-flash-exp\n",
      "models/gemini-2.0-flash\n",
      "models/gemini-2.0-flash-001\n",
      "models/gemini-2.0-flash-exp-image-generation\n",
      "models/gemini-2.0-flash-lite-001\n",
      "models/gemini-2.0-flash-lite\n",
      "models/gemini-2.0-flash-preview-image-generation\n",
      "models/gemini-2.0-flash-lite-preview-02-05\n",
      "models/gemini-2.0-flash-lite-preview\n",
      "models/gemini-2.0-pro-exp\n",
      "models/gemini-2.0-pro-exp-02-05\n",
      "models/gemini-exp-1206\n",
      "models/gemini-2.0-flash-thinking-exp-01-21\n",
      "models/gemini-2.0-flash-thinking-exp\n",
      "models/gemini-2.0-flash-thinking-exp-1219\n",
      "models/learnlm-2.0-flash-experimental\n",
      "models/gemma-3-1b-it\n",
      "models/gemma-3-4b-it\n",
      "models/gemma-3-12b-it\n",
      "models/gemma-3-27b-it\n",
      "models/embedding-001\n",
      "models/text-embedding-004\n",
      "models/gemini-embedding-exp-03-07\n",
      "models/gemini-embedding-exp\n",
      "models/aqa\n",
      "models/imagen-3.0-generate-002\n",
      "models/gemini-2.0-flash-live-001\n"
     ]
    }
   ],
   "source": [
    "for model in client.models.list():\n",
    "    \n",
    "    print(model.name)"
   ]
  },
  {
   "cell_type": "code",
   "execution_count": 14,
   "id": "7e6debf3",
   "metadata": {},
   "outputs": [
    {
     "name": "stdout",
     "output_type": "stream",
     "text": [
      "O número π (pi) é uma constante matemática que representa a razão entre a circunferência de um círculo e seu diâmetro. Em termos mais simples:\n",
      "\n",
      "*   **Circunferência:** A distância ao redor de um círculo.\n",
      "*   **Diâmetro:** A distância através do círculo, passando pelo centro.\n",
      "\n",
      "Se você pegar qualquer círculo, medir sua circunferência e dividir esse valor pelo seu diâmetro, o resultado será sempre um número próximo de π.\n",
      "\n",
      "**Valor Aproximado:**\n",
      "\n",
      "O valor de π é aproximadamente 3,14159, mas ele é um número irracional, o que significa que sua representação decimal é infinita e não repetitiva. Por isso, não podemos escrever seu valor exato como uma fração simples ou um decimal finito.\n",
      "\n",
      "**Importância:**\n",
      "\n",
      "π é fundamental em diversas áreas da matemática, física, engenharia e outras ciências, aparecendo em fórmulas relacionadas a:\n",
      "\n",
      "*   Área e volume de figuras geométricas circulares e esféricas.\n",
      "*   Trigonometria.\n",
      "*   Cálculo.\n",
      "*   Estatística.\n",
      "*   Teoria dos números.\n",
      "\n",
      "Em resumo, π é uma constante universal que conecta a geometria dos círculos com outros campos da matemática e da ciência.\n"
     ]
    }
   ],
   "source": [
    "modelo = \"gemini-2.0-flash\"\n",
    "\n",
    "mensagem = input(str(\"Faça uma pergunta: \"))\n",
    "\n",
    "resposta = client.models.generate_content(model=modelo, contents=mensagem)\n",
    "\n",
    "print(resposta.text)"
   ]
  },
  {
   "cell_type": "code",
   "execution_count": 21,
   "id": "f5b11ce0",
   "metadata": {},
   "outputs": [
    {
     "name": "stdout",
     "output_type": "stream",
     "text": [
      "Sim, lembro da nossa conversa sobre o assistente pessoal. Você pode me dar mais detalhes sobre o que você \"acabou de dar\"? Por exemplo:\n",
      "\n",
      "*   **Você está falando sobre dar feedback sobre um assistente pessoal que usou?**\n",
      "*   **Você está falando sobre dar permissão a um assistente pessoal para acessar seus dados?**\n",
      "*   **Você está falando sobre dar um presente para um assistente pessoal (o que seria incomum, mas possível no contexto de um humano)?**\n",
      "*   **Você está falando sobre dar instruções específicas a um assistente pessoal?**\n",
      "\n",
      "Quanto mais informações você me der, melhor poderei entender e responder à sua pergunta.\n"
     ]
    }
   ],
   "source": [
    "chat = client.chats.create(model=modelo)\n",
    "\n",
    "mensagem = input(str(\"Fale algo: \"))\n",
    "resposta = chat.send_message(mensagem)\n",
    "\n",
    "print(resposta.text)"
   ]
  },
  {
   "cell_type": "code",
   "execution_count": null,
   "id": "5091ea09",
   "metadata": {},
   "outputs": [],
   "source": [
    "from google.genai import types\n",
    "\n",
    "\n",
    "instrucao = input(str(\"Passe instruções\"))\n",
    "\n",
    "chat_config = types.GenerateContentConfig(\n",
    "    \n",
    "    system_instruction = instrucao \n",
    ")\n",
    "\n",
    "chat = client.chats.create(model=modelo, config=chat_config)\n",
    "\n",
    "resposta = chat.send_message(instrucao)\n",
    "\n",
    "print(resposta.text)"
   ]
  }
 ],
 "metadata": {
  "kernelspec": {
   "display_name": "Python 3",
   "language": "python",
   "name": "python3"
  },
  "language_info": {
   "codemirror_mode": {
    "name": "ipython",
    "version": 3
   },
   "file_extension": ".py",
   "mimetype": "text/x-python",
   "name": "python",
   "nbconvert_exporter": "python",
   "pygments_lexer": "ipython3",
   "version": "3.12.10"
  }
 },
 "nbformat": 4,
 "nbformat_minor": 5
}
