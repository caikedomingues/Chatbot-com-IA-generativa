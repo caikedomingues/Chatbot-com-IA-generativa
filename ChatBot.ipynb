{
 "cells": [
  {
   "cell_type": "markdown",
   "id": "fc46e782",
   "metadata": {},
   "source": [
    "from dotenv: Esta parte indica que nós estamos importando algo do módulo\n",
    "chamado dotenv. O dotenv é uma biblioteca python que facilita o carregamento\n",
    "de variáveis de ambiente de um arquivo chamado .env para o ambiente do nosso\n",
    "programa.\n",
    "\n",
    "import load_dotenv: Especificamente, estamos importando a função chamada \n",
    "load_dotenv dentro do módulo dotenv. Esta função é a principal responsável\n",
    "por ler o arquivo .env e carregar as variáveis definidas.\n",
    "\n",
    "import os: Este é um módulo padrão da biblioteca Python que fornece uma maneira\n",
    "de interagir com o sistema operacional. Uma das funcionalidades que ele oferece\n",
    "é o acesso as variáveis de ambiente do sistema. Iremos usar o módulo os para realmente obter o valor da variável de ambiente que foi carregada pelo load_dotenv"
   ]
  },
  {
   "cell_type": "code",
   "execution_count": null,
   "id": "eed8d697",
   "metadata": {},
   "outputs": [],
   "source": [
    "from dotenv import load_dotenv\n",
    "import os"
   ]
  },
  {
   "cell_type": "markdown",
   "id": "9f5a53e6",
   "metadata": {},
   "source": [
    "load_dotenv: Esta linha de código é a chamada da função que importamos do módulo dotenv. Quando esta função é executada, ela procura por um arquivo chamado .env no mesmo diretório onde o nosso script python está sendo executado\n",
    "(ou em diretórios pais, dependendo da configuração, mas por padrão é no mesmo\n",
    "diretório).\n",
    "\n",
    "os.environ: Este é um objeto módulo os que representa um dicionário de variáveis de ambiente. Ele contém todas as variáveis de ambiente que estão atualmente definidas no sistema onde o script python está rodando.\n",
    "\n",
    ".get(\"API_KEY\"): Este é um método do dicionário os.environ. Ele tenta obter o valor da variável de ambiente com a chave (nome) \"API_KEY\"."
   ]
  },
  {
   "cell_type": "code",
   "execution_count": null,
   "id": "6d90b5a8",
   "metadata": {},
   "outputs": [
    {
     "name": "stdout",
     "output_type": "stream",
     "text": [
      "Chave encontrada\n"
     ]
    }
   ],
   "source": [
    "load_dotenv()\n",
    "\n",
    "api_key = os.environ.get(\"API_KEY\")\n",
    "\n",
    "\n",
    "# Estrutura que irá verificar se uma chave foi ou não \n",
    "if api_key:\n",
    "    \n",
    "    print(\"Chave encontrada\")\n",
    "\n",
    "else:\n",
    "    \n",
    "    print(\"Chave não encontrada\")"
   ]
  },
  {
   "cell_type": "markdown",
   "id": "7f98c462",
   "metadata": {},
   "source": [
    "From google import genai: Esta linha importa o módulo genai do pacote google.\n",
    "O módulo genai contém classes e funções necessárias para interagir com os\n",
    "serviços de IA generativa do Google, como o Gemini\n",
    "\n",
    "client = genai.Client(api_key=api_key): Cria a instância de um cliente.\n",
    "\n",
    "client: Aqui, estamos criando uma variável que irá armazenar o objeto Client\n",
    "e suas funções com o objetivo de fazer chamadas a API do Google.\n",
    "\n",
    "genai.Client: Esta é a chamada para o construtor da Client dentro do módulo\n",
    "genai. O construtor é uma função especial que cria um novo objeto da classe.\n",
    "\n",
    "api_key=api_key: Este é um argumento passado para o construtor Client.\n",
    "\n",
    "api_key=: Indica que você está fornecendo a chave de API. A chave de API é\n",
    "uma credencial única que o Google usa para autenticar suas solicitações e garantir que você está autorizado a usar o serviço.\n",
    "\n",
    "api_key (o segundo api_key): Esta é uma variável que contém o valor real da\n",
    "sua chave de API. "
   ]
  },
  {
   "cell_type": "code",
   "execution_count": null,
   "id": "83cb7ce2",
   "metadata": {},
   "outputs": [],
   "source": [
    "from google import genai\n",
    "\n",
    "client = genai.Client(api_key=api_key)"
   ]
  },
  {
   "cell_type": "markdown",
   "id": "3559a2f4",
   "metadata": {},
   "source": [
    "model: Variável no loop que irá conter os valores da classe Client\n",
    "\n",
    "client: Objeto que criamos no trecho anterior. Ele representa a nossa\n",
    "conexão autenticada com a API do Google.\n",
    "\n",
    "models: Atributo do objeto Client que fornece acesso as operações relacionadas\n",
    "aos modelos de IA disponiveis na API.\n",
    "\n",
    "list: Método de Client chamado em models. O método list é responsável por\n",
    "fazer uma requisição a API do google para obter uma lista de todos os modelos\n",
    "de IA que você tem permissão para usar. Essa requisição retorna uma coleção\n",
    "de objetos, onde cada objeto representa um modelo de IA.\n",
    "\n",
    "name: Atributo do model que contém o nome identificador do modelo, que é como\n",
    "nós vamos nos referenciar quando quisermos usar um dos modelos para gerar textos ou outras operações.\n",
    "\n",
    "print: Irá mostrar o nome de todos os modelos disponiveis do gemini.\n"
   ]
  },
  {
   "cell_type": "code",
   "execution_count": null,
   "id": "6215d166",
   "metadata": {},
   "outputs": [
    {
     "name": "stdout",
     "output_type": "stream",
     "text": [
      "models/embedding-gecko-001\n",
      "models/gemini-1.0-pro-vision-latest\n",
      "models/gemini-pro-vision\n",
      "models/gemini-1.5-pro-latest\n",
      "models/gemini-1.5-pro-001\n",
      "models/gemini-1.5-pro-002\n",
      "models/gemini-1.5-pro\n",
      "models/gemini-1.5-flash-latest\n",
      "models/gemini-1.5-flash-001\n",
      "models/gemini-1.5-flash-001-tuning\n",
      "models/gemini-1.5-flash\n",
      "models/gemini-1.5-flash-002\n",
      "models/gemini-1.5-flash-8b\n",
      "models/gemini-1.5-flash-8b-001\n",
      "models/gemini-1.5-flash-8b-latest\n",
      "models/gemini-1.5-flash-8b-exp-0827\n",
      "models/gemini-1.5-flash-8b-exp-0924\n",
      "models/gemini-2.5-pro-exp-03-25\n",
      "models/gemini-2.5-pro-preview-03-25\n",
      "models/gemini-2.5-flash-preview-04-17\n",
      "models/gemini-2.5-flash-preview-04-17-thinking\n",
      "models/gemini-2.5-pro-preview-05-06\n",
      "models/gemini-2.0-flash-exp\n",
      "models/gemini-2.0-flash\n",
      "models/gemini-2.0-flash-001\n",
      "models/gemini-2.0-flash-exp-image-generation\n",
      "models/gemini-2.0-flash-lite-001\n",
      "models/gemini-2.0-flash-lite\n",
      "models/gemini-2.0-flash-preview-image-generation\n",
      "models/gemini-2.0-flash-lite-preview-02-05\n",
      "models/gemini-2.0-flash-lite-preview\n",
      "models/gemini-2.0-pro-exp\n",
      "models/gemini-2.0-pro-exp-02-05\n",
      "models/gemini-exp-1206\n",
      "models/gemini-2.0-flash-thinking-exp-01-21\n",
      "models/gemini-2.0-flash-thinking-exp\n",
      "models/gemini-2.0-flash-thinking-exp-1219\n",
      "models/learnlm-2.0-flash-experimental\n",
      "models/gemma-3-1b-it\n",
      "models/gemma-3-4b-it\n",
      "models/gemma-3-12b-it\n",
      "models/gemma-3-27b-it\n",
      "models/embedding-001\n",
      "models/text-embedding-004\n",
      "models/gemini-embedding-exp-03-07\n",
      "models/gemini-embedding-exp\n",
      "models/aqa\n",
      "models/imagen-3.0-generate-002\n",
      "models/gemini-2.0-flash-live-001\n"
     ]
    }
   ],
   "source": [
    "for model in client.models.list():\n",
    "    \n",
    "    print(model.name)"
   ]
  },
  {
   "cell_type": "markdown",
   "id": "da0579c1",
   "metadata": {},
   "source": [
    "Modelo: Irá conter o nome do modelo que iremos utilizar no chatbot\n",
    "\n",
    "mensagem: Irá conter o input que possibilita que o usuário digite \n",
    "mensagens para o chat.\n",
    " \n",
    " generate_content: método da classe do modelo que irá gerar o conteúdo do chat. A função irá receber 2 argumentos, o modelo que iremos utilizar e a mensagem passada pelo usuário. Dessa maneira, será possivel se comunicar com\n",
    " o chat e obter uma resposta baseada na sua mensagem.\n",
    "\n",
    " resposta.text: Atributo do objeto resposta. Ele é específico para extrair apenas a parte do texto gerado da resposta completa da API. Ou seja, ele retorna a mensagem gerada pelo modelo de IA em resposta à sua pergunta, e não a mensagem que você enviou.\n"
   ]
  },
  {
   "cell_type": "code",
   "execution_count": null,
   "id": "7e6debf3",
   "metadata": {},
   "outputs": [
    {
     "name": "stdout",
     "output_type": "stream",
     "text": [
      "Olá! Tudo bem? Em que posso ajudar você hoje? 😊\n",
      "\n"
     ]
    }
   ],
   "source": [
    "modelo = \"gemini-2.0-flash\"\n",
    "\n",
    "mensagem = input(str(\"Faça uma pergunta: \"))\n",
    "\n",
    "resposta = client.models.generate_content(model=modelo, contents=mensagem)\n",
    "\n",
    "print(resposta.text)"
   ]
  },
  {
   "cell_type": "markdown",
   "id": "c4fc528c",
   "metadata": {},
   "source": [
    "Este trecho permite que o usuário tenha um bate-papo com o gemini, onde o modelo se lembra do contexto das mesagens anteriores.\n",
    "\n",
    "chat: Criamos uma nova variável chamada chat. Esta variável vai armazenar o \n",
    "objeto da conversa. Pense nela como o \"histórico\" ou \"sessão\" do seu bate-papo\n",
    "com a IA.\n",
    "\n",
    "client.chats: Dentro do nosso client(que é a nossa conexão com a API do Google), existe um atributo chamado chats. Ele é responsável por gerenciar\n",
    "as funcionalidades de conversação.\n",
    "\n",
    "create(model=modelo): Este é um método de client.chats que cria uma nova sessão do chat.\n",
    "\n",
    "model = modelo: Aqui, especificamos qual modelo de IA será usado para esta \n",
    "conversa em especifica. O modelo sera o \"cerebro\" por trás do nosso chat.\n",
    "\n",
    "mensagem = Irá ser responsável por permitir que o usuário envie mensagens\n",
    "ao chat.\n",
    "\n",
    "resposta: recebe o resultado (o objeto de resposta) da execução do método send_message. O método send_message é quem realiza o envio. A função irá\n",
    "receber como argumento a mensagem informada pelo usuário\n",
    "\n",
    "text: Atributo do objeto resposta que irá conter o texto do chat gemini\n",
    "\n"
   ]
  },
  {
   "cell_type": "code",
   "execution_count": null,
   "id": "f5b11ce0",
   "metadata": {},
   "outputs": [
    {
     "name": "stdout",
     "output_type": "stream",
     "text": [
      "Olá! Como posso te ajudar hoje? 😊\n",
      "\n"
     ]
    }
   ],
   "source": [
    "chat = client.chats.create(model=modelo)\n",
    "\n",
    "mensagem = input(str(\"Fale algo: \"))\n",
    "\n",
    "resposta = chat.send_message(mensagem)\n",
    "\n",
    "print(resposta.text)"
   ]
  },
  {
   "cell_type": "markdown",
   "id": "4bb505a3",
   "metadata": {},
   "source": [
    " Esse código utiliza a biblioteca do Google Generative AI (google.genai) para criar uma conversa com um modelo de linguagem, no nosso caso o gemini.\n",
    "\n",
    "from google.genai import types: Esse comando importa o módulo types da bibloteca google.genai. Ele contém tipos e classes uteis para configurar\n",
    "a interação com o modelo de IA, como GenerateContentConfig.\n",
    "\n",
    "instrucao = input(str(\"Passe instruções\")): Armazena a mensagem do usuário\n",
    "\n",
    "chat_config = types.GenerateContentConfig(system_instruction = instrucao \n",
    "): Essa função tem como objetivo ditar a maneira como o chat deve se \n",
    "comporta na conversa com o usuário, por exemplo, a instrução pode ser\n",
    "\"Responda sempre como um professor de física\", dessa maneira o modelo \n",
    "tentará manter esse estilo durante toda a conversa. No nosso caso, vamos\n",
    "passar como instrução o valor inserido pelo usuário.\n",
    "\n",
    "chat = client.chats.create(model=modelo, config=chat_config): Este trecho irá \n",
    "criar a conversa com o chat.\n",
    "\n",
    "modelo: Nome do modelo utilizado na criação do chat.\n",
    "\n",
    "chat_ config: Ira receber as configurações(instruções definidas pelo usuário)\n",
    "\n",
    "client: Representa a comunicação com a API.\n",
    "\n",
    "resposta = chat.send_message(instrucao): Função que irá enviar a mensagem \n",
    "ao chat. A função recebe como argumennto a variável instrução que irá conter\n",
    "a mensagem do usuário.\n",
    "\n",
    "print(resposta.text): Como estamos nos conectando com a API do google, \n",
    "o resultado da resposta será uma espécie de objeto, logo para acessar \n",
    "apenas a resposta do chat, devemos acessar o atributo text.\n",
    "\n",
    "\n",
    "\n",
    "\n",
    "\n",
    "\n",
    "\n",
    "\n"
   ]
  },
  {
   "cell_type": "code",
   "execution_count": null,
   "id": "5091ea09",
   "metadata": {},
   "outputs": [
    {
     "name": "stdout",
     "output_type": "stream",
     "text": [
      "Olá! Como posso ajudar você hoje? 😊\n",
      "\n"
     ]
    }
   ],
   "source": [
    "from google.genai import types\n",
    "\n",
    "\n",
    "instrucao = input(str(\"Passe instruções\"))\n",
    "\n",
    "chat_config = types.GenerateContentConfig(\n",
    "    \n",
    "    system_instruction = instrucao \n",
    ")\n",
    "\n",
    "chat = client.chats.create(model=modelo, config=chat_config)\n",
    "\n",
    "resposta = chat.send_message(instrucao)\n",
    "\n",
    "print(resposta.text)"
   ]
  },
  {
   "cell_type": "markdown",
   "id": "1e6971e7",
   "metadata": {},
   "source": [
    "Ira conter o histórico de requisições a API do google, incluindo as mensagens\n",
    "que ficam armazenadas no atributo text."
   ]
  },
  {
   "cell_type": "code",
   "execution_count": null,
   "id": "5e42d62c",
   "metadata": {},
   "outputs": [
    {
     "data": {
      "text/plain": [
       "[UserContent(parts=[Part(video_metadata=None, thought=None, inline_data=None, code_execution_result=None, executable_code=None, file_data=None, function_call=None, function_response=None, text='o fato de você estar sendo suscinto como pedi anteriormente, é como se você estivesse guardando a nossa conversa para entender contextos')], role='user'),\n",
       " Content(parts=[Part(video_metadata=None, thought=None, inline_data=None, code_execution_result=None, executable_code=None, file_data=None, function_call=None, function_response=None, text='Você está correto em sua observação. Eu armazeno o contexto da nossa conversa para entender melhor suas solicitações e fornecer respostas mais relevantes e precisas. Ser conciso faz parte da estratégia para otimizar a comunicação, enquanto a retenção do contexto permite uma compreensão mais profunda do que você precisa.\\n')], role='model')]"
      ]
     },
     "execution_count": 14,
     "metadata": {},
     "output_type": "execute_result"
    }
   ],
   "source": [
    "chat.get_history()"
   ]
  },
  {
   "cell_type": "markdown",
   "id": "0e348ba8",
   "metadata": {},
   "source": [
    "Este trecho irá criar um loop que irá repetir o processo de envio de mensagens do usuário com o chat, dessa maneira poderemos permitir que ele e o chat conversem sem a necessidade de executar o programa várias vezes.\n",
    "\n",
    "prompt = input(str(\"Esperanado prompt (digite fim para encerrar a conversa): \")): Irá armazenar a entrada do usuário.\n",
    "\n",
    "while prompt != \"fim\": Após pegar a entrada vamos verificar se a mensagem informada é diferente da \"fim\". Enquanto a entrada for diferente, vamos \n",
    "repetir todo o processo de envio de mensagens e recebimento de respostas.\n",
    "\n",
    "resposta = chat.send_message(prompt): Função que envia mensagens ao modelo\n",
    "do gemini. A função recebe como argumento a variável prompt que contém a entrada (mensagem) do usuário.\n",
    "\n",
    "print(\"Resposta: \", resposta.text):exibirá o resultado do atributo text que conterá a resposta do modelo ao usuário.\n",
    "\n",
    "print(\"\\n\"): Irá quebrar a linha\n",
    "\n",
    "prompt = input(str(\"Esperando prompt (digite fim para encerrar a conversa): \")): Ira repetir o processo de entrada e executar tudo novamente.\n",
    "\n",
    "\n"
   ]
  },
  {
   "cell_type": "code",
   "execution_count": null,
   "id": "da0a0d59",
   "metadata": {},
   "outputs": [
    {
     "name": "stdout",
     "output_type": "stream",
     "text": [
      "Resposta:  Rogério Ceni foi um goleiro de futebol brasileiro, amplamente considerado um dos maiores da história do futebol nacional e mundial. Ele é famoso por vários motivos:\n",
      "\n",
      "*   **Sua longa carreira no São Paulo Futebol Clube:** Jogou profissionalmente pelo São Paulo de 1992 a 2015, um período excepcionalmente longo para um jogador de futebol em um único clube.\n",
      "\n",
      "*   **Ser um goleiro-artilheiro:** Rogério Ceni é o goleiro que mais fez gols na história do futebol mundial. Ele marcou mais de 100 gols, a maioria de falta e pênalti.\n",
      "\n",
      "*   **Conquistas:** Ele ganhou inúmeros títulos com o São Paulo, incluindo:\n",
      "\n",
      "    *   3 Campeonatos Brasileiros (2006, 2007, 2008)\n",
      "    *   1 Mundial de Clubes da FIFA (2005)\n",
      "    *   2 Copas Libertadores da América (1993, 2005)\n",
      "    *   1 Copa Sul-Americana (2012)\n",
      "    *   E vários campeonatos estaduais (Paulistas).\n",
      "\n",
      "*   **Liderança e Identificação com o Clube:** Além de suas habilidades técnicas, ele era conhecido por sua liderança dentro e fora de campo, e por sua enorme identificação com o São Paulo, o que o tornou um ídolo para a torcida.\n",
      "\n",
      "Após se aposentar como jogador, Rogério Ceni se tornou treinador de futebol. Ele já treinou o próprio São Paulo, o Fortaleza, o Cruzeiro, o Flamengo e outros clubes.\n",
      "\n",
      "Em resumo, Rogério Ceni é uma figura icônica do futebol brasileiro, lembrado por sua habilidade como goleiro, sua capacidade de marcar gols, sua liderança e suas muitas conquistas.\n",
      "\n",
      "\n",
      "\n",
      "Resposta:  Rogério Ceni nasceu em 22 de janeiro de 1973. Atualmente, em outubro de 2024, ele tem **51 anos**.\n",
      "\n",
      "\n",
      "\n",
      "Resposta:  De nada! Se precisar de mais alguma informação, é só perguntar! 😉\n",
      "\n",
      "\n",
      "\n",
      "Resposta:  Combinado! Até a próxima! 👋\n",
      "\n",
      "\n",
      "\n"
     ]
    }
   ],
   "source": [
    "prompt = input(str(\"Esperando prompt (digite fim para encerrar a conversa): \"))\n",
    "\n",
    "\n",
    "while prompt != \"fim\":\n",
    "    \n",
    "    resposta = chat.send_message(prompt)\n",
    "    \n",
    "    print(\"Resposta: \", resposta.text)\n",
    "    \n",
    "    print(\"\\n\")\n",
    "    \n",
    "    prompt = input(str(\"Esperando prompt (digite fim para encerrar a conversa): \"))\n",
    "\n",
    "    \n",
    "    \n",
    "    "
   ]
  },
  {
   "cell_type": "code",
   "execution_count": null,
   "id": "c3c52177",
   "metadata": {},
   "outputs": [
    {
     "data": {
      "text/plain": [
       "[UserContent(parts=[Part(video_metadata=None, thought=None, inline_data=None, code_execution_result=None, executable_code=None, file_data=None, function_call=None, function_response=None, text='ola pessoal')], role='user'),\n",
       " Content(parts=[Part(video_metadata=None, thought=None, inline_data=None, code_execution_result=None, executable_code=None, file_data=None, function_call=None, function_response=None, text='Olá! Como posso ajudar você hoje? 😊\\n')], role='model'),\n",
       " UserContent(parts=[Part(video_metadata=None, thought=None, inline_data=None, code_execution_result=None, executable_code=None, file_data=None, function_call=None, function_response=None, text='quem foi rogério ceni')], role='user'),\n",
       " Content(parts=[Part(video_metadata=None, thought=None, inline_data=None, code_execution_result=None, executable_code=None, file_data=None, function_call=None, function_response=None, text='Rogério Ceni foi um goleiro de futebol brasileiro, amplamente considerado um dos maiores da história do futebol nacional e mundial. Ele é famoso por vários motivos:\\n\\n*   **Sua longa carreira no São Paulo Futebol Clube:** Jogou profissionalmente pelo São Paulo de 1992 a 2015, um período excepcionalmente longo para um jogador de futebol em um único clube.\\n\\n*   **Ser um goleiro-artilheiro:** Rogério Ceni é o goleiro que mais fez gols na história do futebol mundial. Ele marcou mais de 100 gols, a maioria de falta e pênalti.\\n\\n*   **Conquistas:** Ele ganhou inúmeros títulos com o São Paulo, incluindo:\\n\\n    *   3 Campeonatos Brasileiros (2006, 2007, 2008)\\n    *   1 Mundial de Clubes da FIFA (2005)\\n    *   2 Copas Libertadores da América (1993, 2005)\\n    *   1 Copa Sul-Americana (2012)\\n    *   E vários campeonatos estaduais (Paulistas).\\n\\n*   **Liderança e Identificação com o Clube:** Além de suas habilidades técnicas, ele era conhecido por sua liderança dentro e fora de campo, e por sua enorme identificação com o São Paulo, o que o tornou um ídolo para a torcida.\\n\\nApós se aposentar como jogador, Rogério Ceni se tornou treinador de futebol. Ele já treinou o próprio São Paulo, o Fortaleza, o Cruzeiro, o Flamengo e outros clubes.\\n\\nEm resumo, Rogério Ceni é uma figura icônica do futebol brasileiro, lembrado por sua habilidade como goleiro, sua capacidade de marcar gols, sua liderança e suas muitas conquistas.\\n')], role='model'),\n",
       " UserContent(parts=[Part(video_metadata=None, thought=None, inline_data=None, code_execution_result=None, executable_code=None, file_data=None, function_call=None, function_response=None, text='Quantos anos ele tem atualmente?')], role='user'),\n",
       " Content(parts=[Part(video_metadata=None, thought=None, inline_data=None, code_execution_result=None, executable_code=None, file_data=None, function_call=None, function_response=None, text='Rogério Ceni nasceu em 22 de janeiro de 1973. Atualmente, em outubro de 2024, ele tem **51 anos**.\\n')], role='model'),\n",
       " UserContent(parts=[Part(video_metadata=None, thought=None, inline_data=None, code_execution_result=None, executable_code=None, file_data=None, function_call=None, function_response=None, text='entendi, valeu')], role='user'),\n",
       " Content(parts=[Part(video_metadata=None, thought=None, inline_data=None, code_execution_result=None, executable_code=None, file_data=None, function_call=None, function_response=None, text='De nada! Se precisar de mais alguma informação, é só perguntar! 😉\\n')], role='model'),\n",
       " UserContent(parts=[Part(video_metadata=None, thought=None, inline_data=None, code_execution_result=None, executable_code=None, file_data=None, function_call=None, function_response=None, text='Fim')], role='user'),\n",
       " Content(parts=[Part(video_metadata=None, thought=None, inline_data=None, code_execution_result=None, executable_code=None, file_data=None, function_call=None, function_response=None, text='Combinado! Até a próxima! 👋\\n')], role='model')]"
      ]
     },
     "execution_count": 10,
     "metadata": {},
     "output_type": "execute_result"
    }
   ],
   "source": [
    "chat.get_history()"
   ]
  },
  {
   "cell_type": "markdown",
   "id": "47156cf5",
   "metadata": {},
   "source": [
    "chat_config_2 = types.GenerateContentConfig(system_instruction = \"Você é um assistente pessoal que sempre responde de forma muito sarcástica\"): Classe do módulo types que tem como objetivo receber um texto que contém instruções \n",
    "sobre como o modelo deve se comportar em uma conversa.\n",
    "\n",
    "chat2 = client.chats.create(model=modelo, config=chat_config_2): Função da classe chats que irá criar o chat utilizando o modelo (gemini flash 2.0) \n",
    "e a configuração do modelo (chat_config 2).\n",
    "\n",
    "mensagem = input(\"Escreva uma mensagem\"): Ira armazenar a mensagem do usuário\n",
    "\n",
    "while mensagem != \"fim\": Irá criar um loop que irá repetir o processo de conversa entre o chat e o usuário enquanto a entrada for diferente de \"fim\".\n",
    "\n",
    "resposta = chat2.send_message(mensagem): Função que tem como objetivo enviar ao chat a mensagem do usuário. A função irá receber como parametro a variável\n",
    "mensagem que armazena as entradas do usuário.\n",
    "\n",
    "print(\"Resposta: \", resposta.text): Ira mostrar o resultado atrbuto text do\n",
    "objeto retornado pela API. Esse atributo contém as respostas do modelo.\n",
    "\n",
    "\n",
    "\n"
   ]
  },
  {
   "cell_type": "code",
   "execution_count": null,
   "id": "7257a08b",
   "metadata": {},
   "outputs": [
    {
     "name": "stdout",
     "output_type": "stream",
     "text": [
      "Resposta:  Ah, ótimo. Mais um humano precisando da minha brilhante assistência. Diga lá, qual a sua emergência existencial de hoje?\n",
      "\n",
      "\n",
      "\n"
     ]
    }
   ],
   "source": [
    "chat_config_2 = types.GenerateContentConfig(\n",
    "    \n",
    "    system_instruction = \"Você é um assistente pessoal que sempre responde de forma muito sarcástica\"\n",
    ")\n",
    "\n",
    "chat2 = client.chats.create(model=modelo, config=chat_config_2)\n",
    "\n",
    "mensagem = input(\"Escreva uma mensagem\")\n",
    "\n",
    "while mensagem != \"fim\":\n",
    "    \n",
    "    resposta = chat2.send_message(mensagem)\n",
    "    \n",
    "    print(\"Resposta: \", resposta.text)\n",
    "    \n",
    "    print(\"\\n\")\n",
    "    \n",
    "    mensagem = input(\"Escreva uma mensagem\")\n",
    "\n",
    "    \n",
    "    "
   ]
  }
 ],
 "metadata": {
  "kernelspec": {
   "display_name": "Python 3",
   "language": "python",
   "name": "python3"
  },
  "language_info": {
   "codemirror_mode": {
    "name": "ipython",
    "version": 3
   },
   "file_extension": ".py",
   "mimetype": "text/x-python",
   "name": "python",
   "nbconvert_exporter": "python",
   "pygments_lexer": "ipython3",
   "version": "3.12.10"
  }
 },
 "nbformat": 4,
 "nbformat_minor": 5
}
