{
 "cells": [
  {
   "cell_type": "markdown",
   "id": "fc46e782",
   "metadata": {},
   "source": [
    "from dotenv: Esta parte indica que nós estamos importando algo do módulo\n",
    "chamado dotenv. O dotenv é uma biblioteca python que facilita o carregamento\n",
    "de variáveis de ambiente de um arquivo chamado .env para o ambiente do nosso\n",
    "programa.\n",
    "\n",
    "import load_dotenv: Especificamente, estamos importando a função chamada \n",
    "load_dotenv dentro do módulo dotenv. Esta função é a principal responsável\n",
    "por ler o arquivo .env e carregar as variáveis definidas.\n",
    "\n",
    "import os: Este é um módulo padrão da biblioteca Python que fornece uma maneira\n",
    "de interagir com o sistema operacional. Uma das funcionalidades que ele oferece\n",
    "é o acesso as variáveis de ambiente do sistema. Iremos usar o módulo os para realmente obter o valor da variável de ambiente que foi carregada pelo load_dotenv"
   ]
  },
  {
   "cell_type": "code",
   "execution_count": 1,
   "id": "eed8d697",
   "metadata": {},
   "outputs": [],
   "source": [
    "from dotenv import load_dotenv\n",
    "import os"
   ]
  },
  {
   "cell_type": "markdown",
   "id": "9f5a53e6",
   "metadata": {},
   "source": [
    "load_dotenv: Esta linha de código é a chamada da função que importamos do módulo dotenv. Quando esta função é executada, ela procura por um arquivo chamado .env no mesmo diretório onde o nosso script python está sendo executado\n",
    "(ou em diretórios pais, dependendo da configuração, mas por padrão é no mesmo\n",
    "diretório).\n",
    "\n",
    "os.environ: Este é um objeto módulo os que representa um dicionário de variáveis de ambiente. Ele contém todas as variáveis de ambiente que estão atualmente definidas no sistema onde o script python está rodando.\n",
    "\n",
    ".get(\"API_KEY\"): Este é um método do dicionário os.environ. Ele tenta obter o valor da variável de ambiente com a chave (nome) \"API_KEY\"."
   ]
  },
  {
   "cell_type": "code",
   "execution_count": null,
   "id": "6d90b5a8",
   "metadata": {},
   "outputs": [
    {
     "name": "stdout",
     "output_type": "stream",
     "text": [
      "Chave encontrada\n"
     ]
    }
   ],
   "source": [
    "load_dotenv()\n",
    "\n",
    "api_key = os.environ.get(\"API_KEY\")\n",
    "\n",
    "\n",
    "# Estrutura que irá verificar se uma chave foi ou não \n",
    "if api_key:\n",
    "    \n",
    "    print(\"Chave encontrada\")\n",
    "\n",
    "else:\n",
    "    \n",
    "    print(\"Chave não encontrada\")"
   ]
  },
  {
   "cell_type": "code",
   "execution_count": 3,
   "id": "83cb7ce2",
   "metadata": {},
   "outputs": [],
   "source": [
    "from google import genai\n",
    "\n",
    "client = genai.Client(api_key=api_key)"
   ]
  },
  {
   "cell_type": "code",
   "execution_count": null,
   "id": "6215d166",
   "metadata": {},
   "outputs": [],
   "source": []
  }
 ],
 "metadata": {
  "kernelspec": {
   "display_name": "Python 3",
   "language": "python",
   "name": "python3"
  },
  "language_info": {
   "codemirror_mode": {
    "name": "ipython",
    "version": 3
   },
   "file_extension": ".py",
   "mimetype": "text/x-python",
   "name": "python",
   "nbconvert_exporter": "python",
   "pygments_lexer": "ipython3",
   "version": "3.12.10"
  }
 },
 "nbformat": 4,
 "nbformat_minor": 5
}
