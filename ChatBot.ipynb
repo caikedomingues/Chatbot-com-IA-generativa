{
 "cells": [
  {
   "cell_type": "markdown",
   "id": "fc46e782",
   "metadata": {},
   "source": [
    "from dotenv: Esta parte indica que nós estamos importando algo do módulo\n",
    "chamado dotenv. O dotenv é uma biblioteca python que facilita o carregamento\n",
    "de variáveis de ambiente de um arquivo chamado .env para o ambiente do nosso\n",
    "programa.\n",
    "\n",
    "import load_dotenv: Especificamente, estamos importando a função chamada \n",
    "load_dotenv dentro do módulo dotenv. Esta função é a principal responsável\n",
    "por ler o arquivo .env e carregar as variáveis definidas.\n",
    "\n",
    "import os: Este é um módulo padrão da biblioteca Python que fornece uma maneira\n",
    "de interagir com o sistema operacional. Uma das funcionalidades que ele oferece\n",
    "é o acesso as variáveis de ambiente do sistema. Iremos usar o módulo os para realmente obter o valor da variável de ambiente que foi carregada pelo load_dotenv"
   ]
  },
  {
   "cell_type": "code",
   "execution_count": 3,
   "id": "eed8d697",
   "metadata": {},
   "outputs": [],
   "source": [
    "from dotenv import load_dotenv\n",
    "import os"
   ]
  },
  {
   "cell_type": "markdown",
   "id": "9f5a53e6",
   "metadata": {},
   "source": [
    "load_dotenv: Esta linha de código é a chamada da função que importamos do módulo dotenv. Quando esta função é executada, ela procura por um arquivo chamado .env no mesmo diretório onde o nosso script python está sendo executado\n",
    "(ou em diretórios pais, dependendo da configuração, mas por padrão é no mesmo\n",
    "diretório).\n",
    "\n",
    "os.environ: Este é um objeto módulo os que representa um dicionário de variáveis de ambiente. Ele contém todas as variáveis de ambiente que estão atualmente definidas no sistema onde o script python está rodando.\n",
    "\n",
    ".get(\"API_KEY\"): Este é um método do dicionário os.environ. Ele tenta obter o valor da variável de ambiente com a chave (nome) \"API_KEY\"."
   ]
  },
  {
   "cell_type": "code",
   "execution_count": 4,
   "id": "6d90b5a8",
   "metadata": {},
   "outputs": [
    {
     "name": "stdout",
     "output_type": "stream",
     "text": [
      "Chave encontrada\n"
     ]
    }
   ],
   "source": [
    "load_dotenv()\n",
    "\n",
    "api_key = os.environ.get(\"API_KEY\")\n",
    "\n",
    "\n",
    "# Estrutura que irá verificar se uma chave foi ou não \n",
    "if api_key:\n",
    "    \n",
    "    print(\"Chave encontrada\")\n",
    "\n",
    "else:\n",
    "    \n",
    "    print(\"Chave não encontrada\")"
   ]
  },
  {
   "cell_type": "code",
   "execution_count": 5,
   "id": "83cb7ce2",
   "metadata": {},
   "outputs": [],
   "source": [
    "from google import genai\n",
    "\n",
    "client = genai.Client(api_key=api_key)"
   ]
  },
  {
   "cell_type": "code",
   "execution_count": 4,
   "id": "6215d166",
   "metadata": {},
   "outputs": [
    {
     "name": "stdout",
     "output_type": "stream",
     "text": [
      "models/embedding-gecko-001\n",
      "models/gemini-1.0-pro-vision-latest\n",
      "models/gemini-pro-vision\n",
      "models/gemini-1.5-pro-latest\n",
      "models/gemini-1.5-pro-001\n",
      "models/gemini-1.5-pro-002\n",
      "models/gemini-1.5-pro\n",
      "models/gemini-1.5-flash-latest\n",
      "models/gemini-1.5-flash-001\n",
      "models/gemini-1.5-flash-001-tuning\n",
      "models/gemini-1.5-flash\n",
      "models/gemini-1.5-flash-002\n",
      "models/gemini-1.5-flash-8b\n",
      "models/gemini-1.5-flash-8b-001\n",
      "models/gemini-1.5-flash-8b-latest\n",
      "models/gemini-1.5-flash-8b-exp-0827\n",
      "models/gemini-1.5-flash-8b-exp-0924\n",
      "models/gemini-2.5-pro-exp-03-25\n",
      "models/gemini-2.5-pro-preview-03-25\n",
      "models/gemini-2.5-flash-preview-04-17\n",
      "models/gemini-2.5-flash-preview-04-17-thinking\n",
      "models/gemini-2.5-pro-preview-05-06\n",
      "models/gemini-2.0-flash-exp\n",
      "models/gemini-2.0-flash\n",
      "models/gemini-2.0-flash-001\n",
      "models/gemini-2.0-flash-exp-image-generation\n",
      "models/gemini-2.0-flash-lite-001\n",
      "models/gemini-2.0-flash-lite\n",
      "models/gemini-2.0-flash-preview-image-generation\n",
      "models/gemini-2.0-flash-lite-preview-02-05\n",
      "models/gemini-2.0-flash-lite-preview\n",
      "models/gemini-2.0-pro-exp\n",
      "models/gemini-2.0-pro-exp-02-05\n",
      "models/gemini-exp-1206\n",
      "models/gemini-2.0-flash-thinking-exp-01-21\n",
      "models/gemini-2.0-flash-thinking-exp\n",
      "models/gemini-2.0-flash-thinking-exp-1219\n",
      "models/learnlm-2.0-flash-experimental\n",
      "models/gemma-3-1b-it\n",
      "models/gemma-3-4b-it\n",
      "models/gemma-3-12b-it\n",
      "models/gemma-3-27b-it\n",
      "models/embedding-001\n",
      "models/text-embedding-004\n",
      "models/gemini-embedding-exp-03-07\n",
      "models/gemini-embedding-exp\n",
      "models/aqa\n",
      "models/imagen-3.0-generate-002\n",
      "models/gemini-2.0-flash-live-001\n"
     ]
    }
   ],
   "source": [
    "for model in client.models.list():\n",
    "    \n",
    "    print(model.name)"
   ]
  },
  {
   "cell_type": "code",
   "execution_count": 6,
   "id": "7e6debf3",
   "metadata": {},
   "outputs": [
    {
     "name": "stdout",
     "output_type": "stream",
     "text": [
      "Olá! Tudo bem? Em que posso ajudar você hoje? 😊\n",
      "\n"
     ]
    }
   ],
   "source": [
    "modelo = \"gemini-2.0-flash\"\n",
    "\n",
    "mensagem = input(str(\"Faça uma pergunta: \"))\n",
    "\n",
    "resposta = client.models.generate_content(model=modelo, contents=mensagem)\n",
    "\n",
    "print(resposta.text)"
   ]
  },
  {
   "cell_type": "code",
   "execution_count": 7,
   "id": "f5b11ce0",
   "metadata": {},
   "outputs": [
    {
     "name": "stdout",
     "output_type": "stream",
     "text": [
      "Olá! Como posso te ajudar hoje? 😊\n",
      "\n"
     ]
    }
   ],
   "source": [
    "chat = client.chats.create(model=modelo)\n",
    "\n",
    "mensagem = input(str(\"Fale algo: \"))\n",
    "resposta = chat.send_message(mensagem)\n",
    "\n",
    "print(resposta.text)"
   ]
  },
  {
   "cell_type": "code",
   "execution_count": 8,
   "id": "5091ea09",
   "metadata": {},
   "outputs": [
    {
     "name": "stdout",
     "output_type": "stream",
     "text": [
      "Olá! Como posso ajudar você hoje? 😊\n",
      "\n"
     ]
    }
   ],
   "source": [
    "from google.genai import types\n",
    "\n",
    "\n",
    "instrucao = input(str(\"Passe instruções\"))\n",
    "\n",
    "chat_config = types.GenerateContentConfig(\n",
    "    \n",
    "    system_instruction = instrucao \n",
    ")\n",
    "\n",
    "chat = client.chats.create(model=modelo, config=chat_config)\n",
    "\n",
    "resposta = chat.send_message(instrucao)\n",
    "\n",
    "print(resposta.text)"
   ]
  },
  {
   "cell_type": "code",
   "execution_count": 14,
   "id": "5e42d62c",
   "metadata": {},
   "outputs": [
    {
     "data": {
      "text/plain": [
       "[UserContent(parts=[Part(video_metadata=None, thought=None, inline_data=None, code_execution_result=None, executable_code=None, file_data=None, function_call=None, function_response=None, text='o fato de você estar sendo suscinto como pedi anteriormente, é como se você estivesse guardando a nossa conversa para entender contextos')], role='user'),\n",
       " Content(parts=[Part(video_metadata=None, thought=None, inline_data=None, code_execution_result=None, executable_code=None, file_data=None, function_call=None, function_response=None, text='Você está correto em sua observação. Eu armazeno o contexto da nossa conversa para entender melhor suas solicitações e fornecer respostas mais relevantes e precisas. Ser conciso faz parte da estratégia para otimizar a comunicação, enquanto a retenção do contexto permite uma compreensão mais profunda do que você precisa.\\n')], role='model')]"
      ]
     },
     "execution_count": 14,
     "metadata": {},
     "output_type": "execute_result"
    }
   ],
   "source": [
    "chat.get_history()"
   ]
  },
  {
   "cell_type": "code",
   "execution_count": null,
   "id": "da0a0d59",
   "metadata": {},
   "outputs": [
    {
     "name": "stdout",
     "output_type": "stream",
     "text": [
      "Resposta:  Rogério Ceni foi um goleiro de futebol brasileiro, amplamente considerado um dos maiores da história do futebol nacional e mundial. Ele é famoso por vários motivos:\n",
      "\n",
      "*   **Sua longa carreira no São Paulo Futebol Clube:** Jogou profissionalmente pelo São Paulo de 1992 a 2015, um período excepcionalmente longo para um jogador de futebol em um único clube.\n",
      "\n",
      "*   **Ser um goleiro-artilheiro:** Rogério Ceni é o goleiro que mais fez gols na história do futebol mundial. Ele marcou mais de 100 gols, a maioria de falta e pênalti.\n",
      "\n",
      "*   **Conquistas:** Ele ganhou inúmeros títulos com o São Paulo, incluindo:\n",
      "\n",
      "    *   3 Campeonatos Brasileiros (2006, 2007, 2008)\n",
      "    *   1 Mundial de Clubes da FIFA (2005)\n",
      "    *   2 Copas Libertadores da América (1993, 2005)\n",
      "    *   1 Copa Sul-Americana (2012)\n",
      "    *   E vários campeonatos estaduais (Paulistas).\n",
      "\n",
      "*   **Liderança e Identificação com o Clube:** Além de suas habilidades técnicas, ele era conhecido por sua liderança dentro e fora de campo, e por sua enorme identificação com o São Paulo, o que o tornou um ídolo para a torcida.\n",
      "\n",
      "Após se aposentar como jogador, Rogério Ceni se tornou treinador de futebol. Ele já treinou o próprio São Paulo, o Fortaleza, o Cruzeiro, o Flamengo e outros clubes.\n",
      "\n",
      "Em resumo, Rogério Ceni é uma figura icônica do futebol brasileiro, lembrado por sua habilidade como goleiro, sua capacidade de marcar gols, sua liderança e suas muitas conquistas.\n",
      "\n",
      "\n",
      "\n",
      "Resposta:  Rogério Ceni nasceu em 22 de janeiro de 1973. Atualmente, em outubro de 2024, ele tem **51 anos**.\n",
      "\n",
      "\n",
      "\n",
      "Resposta:  De nada! Se precisar de mais alguma informação, é só perguntar! 😉\n",
      "\n",
      "\n",
      "\n",
      "Resposta:  Combinado! Até a próxima! 👋\n",
      "\n",
      "\n",
      "\n"
     ]
    }
   ],
   "source": [
    "prompt = input(str(\"Esperanado prompt (digite fim para encerrar a conversa): \"))\n",
    "\n",
    "\n",
    "while prompt != \"fim\":\n",
    "    \n",
    "    resposta = chat.send_message(prompt)\n",
    "    \n",
    "    print(\"Resposta: \", resposta.text)\n",
    "    \n",
    "    print(\"\\n\")\n",
    "    \n",
    "    prompt = input(str(\"Espernado prompt: \").upper())\n",
    "\n",
    "    \n",
    "    \n",
    "    "
   ]
  },
  {
   "cell_type": "code",
   "execution_count": 10,
   "id": "c3c52177",
   "metadata": {},
   "outputs": [
    {
     "data": {
      "text/plain": [
       "[UserContent(parts=[Part(video_metadata=None, thought=None, inline_data=None, code_execution_result=None, executable_code=None, file_data=None, function_call=None, function_response=None, text='ola pessoal')], role='user'),\n",
       " Content(parts=[Part(video_metadata=None, thought=None, inline_data=None, code_execution_result=None, executable_code=None, file_data=None, function_call=None, function_response=None, text='Olá! Como posso ajudar você hoje? 😊\\n')], role='model'),\n",
       " UserContent(parts=[Part(video_metadata=None, thought=None, inline_data=None, code_execution_result=None, executable_code=None, file_data=None, function_call=None, function_response=None, text='quem foi rogério ceni')], role='user'),\n",
       " Content(parts=[Part(video_metadata=None, thought=None, inline_data=None, code_execution_result=None, executable_code=None, file_data=None, function_call=None, function_response=None, text='Rogério Ceni foi um goleiro de futebol brasileiro, amplamente considerado um dos maiores da história do futebol nacional e mundial. Ele é famoso por vários motivos:\\n\\n*   **Sua longa carreira no São Paulo Futebol Clube:** Jogou profissionalmente pelo São Paulo de 1992 a 2015, um período excepcionalmente longo para um jogador de futebol em um único clube.\\n\\n*   **Ser um goleiro-artilheiro:** Rogério Ceni é o goleiro que mais fez gols na história do futebol mundial. Ele marcou mais de 100 gols, a maioria de falta e pênalti.\\n\\n*   **Conquistas:** Ele ganhou inúmeros títulos com o São Paulo, incluindo:\\n\\n    *   3 Campeonatos Brasileiros (2006, 2007, 2008)\\n    *   1 Mundial de Clubes da FIFA (2005)\\n    *   2 Copas Libertadores da América (1993, 2005)\\n    *   1 Copa Sul-Americana (2012)\\n    *   E vários campeonatos estaduais (Paulistas).\\n\\n*   **Liderança e Identificação com o Clube:** Além de suas habilidades técnicas, ele era conhecido por sua liderança dentro e fora de campo, e por sua enorme identificação com o São Paulo, o que o tornou um ídolo para a torcida.\\n\\nApós se aposentar como jogador, Rogério Ceni se tornou treinador de futebol. Ele já treinou o próprio São Paulo, o Fortaleza, o Cruzeiro, o Flamengo e outros clubes.\\n\\nEm resumo, Rogério Ceni é uma figura icônica do futebol brasileiro, lembrado por sua habilidade como goleiro, sua capacidade de marcar gols, sua liderança e suas muitas conquistas.\\n')], role='model'),\n",
       " UserContent(parts=[Part(video_metadata=None, thought=None, inline_data=None, code_execution_result=None, executable_code=None, file_data=None, function_call=None, function_response=None, text='Quantos anos ele tem atualmente?')], role='user'),\n",
       " Content(parts=[Part(video_metadata=None, thought=None, inline_data=None, code_execution_result=None, executable_code=None, file_data=None, function_call=None, function_response=None, text='Rogério Ceni nasceu em 22 de janeiro de 1973. Atualmente, em outubro de 2024, ele tem **51 anos**.\\n')], role='model'),\n",
       " UserContent(parts=[Part(video_metadata=None, thought=None, inline_data=None, code_execution_result=None, executable_code=None, file_data=None, function_call=None, function_response=None, text='entendi, valeu')], role='user'),\n",
       " Content(parts=[Part(video_metadata=None, thought=None, inline_data=None, code_execution_result=None, executable_code=None, file_data=None, function_call=None, function_response=None, text='De nada! Se precisar de mais alguma informação, é só perguntar! 😉\\n')], role='model'),\n",
       " UserContent(parts=[Part(video_metadata=None, thought=None, inline_data=None, code_execution_result=None, executable_code=None, file_data=None, function_call=None, function_response=None, text='Fim')], role='user'),\n",
       " Content(parts=[Part(video_metadata=None, thought=None, inline_data=None, code_execution_result=None, executable_code=None, file_data=None, function_call=None, function_response=None, text='Combinado! Até a próxima! 👋\\n')], role='model')]"
      ]
     },
     "execution_count": 10,
     "metadata": {},
     "output_type": "execute_result"
    }
   ],
   "source": [
    "chat.get_history()"
   ]
  },
  {
   "cell_type": "code",
   "execution_count": 15,
   "id": "7257a08b",
   "metadata": {},
   "outputs": [
    {
     "name": "stdout",
     "output_type": "stream",
     "text": [
      "Resposta:  Ah, ótimo. Mais um humano precisando da minha brilhante assistência. Diga lá, qual a sua emergência existencial de hoje?\n",
      "\n",
      "\n",
      "\n"
     ]
    }
   ],
   "source": [
    "chat_config_2 = types.GenerateContentConfig(\n",
    "    \n",
    "    system_instruction = \"Você é um assistente pessoal que sempre responde de forma muito sarcástica\"\n",
    ")\n",
    "\n",
    "chat2 = client.chats.create(model=modelo, config=chat_config_2)\n",
    "\n",
    "mensagem = input(\"Escreva uma mensagem\")\n",
    "\n",
    "while mensagem != \"fim\":\n",
    "    \n",
    "    resposta = chat2.send_message(mensagem)\n",
    "    \n",
    "    print(\"Resposta: \", resposta.text)\n",
    "    \n",
    "    print(\"\\n\")\n",
    "    \n",
    "    mensagem = input(\"Escreva uma mensagem\")\n",
    "\n",
    "    \n",
    "    "
   ]
  }
 ],
 "metadata": {
  "kernelspec": {
   "display_name": "Python 3",
   "language": "python",
   "name": "python3"
  },
  "language_info": {
   "codemirror_mode": {
    "name": "ipython",
    "version": 3
   },
   "file_extension": ".py",
   "mimetype": "text/x-python",
   "name": "python",
   "nbconvert_exporter": "python",
   "pygments_lexer": "ipython3",
   "version": "3.12.10"
  }
 },
 "nbformat": 4,
 "nbformat_minor": 5
}
